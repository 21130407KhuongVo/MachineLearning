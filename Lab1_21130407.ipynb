{
  "nbformat": 4,
  "nbformat_minor": 0,
  "metadata": {
    "colab": {
      "provenance": [],
      "authorship_tag": "ABX9TyNwMcyqaiGpEqsozwqOjO8c",
      "include_colab_link": true
    },
    "kernelspec": {
      "name": "python3",
      "display_name": "Python 3"
    },
    "language_info": {
      "name": "python"
    }
  },
  "cells": [
    {
      "cell_type": "markdown",
      "metadata": {
        "id": "view-in-github",
        "colab_type": "text"
      },
      "source": [
        "<a href=\"https://colab.research.google.com/github/21130407KhuongVo/MachineLearning/blob/main/Lab1_21130407.ipynb\" target=\"_parent\"><img src=\"https://colab.research.google.com/assets/colab-badge.svg\" alt=\"Open In Colab\"/></a>"
      ]
    },
    {
      "cell_type": "code",
      "execution_count": 13,
      "metadata": {
        "colab": {
          "base_uri": "https://localhost:8080/"
        },
        "id": "P_FeSBb-okXM",
        "outputId": "83c2bbe6-c329-4b2e-a917-d4da7f41802c"
      },
      "outputs": [
        {
          "output_type": "stream",
          "name": "stdout",
          "text": [
            "1\n",
            "18\n",
            "[1, 2, 3, 4, 5, 6, 9, 10, 12, 13, 15, 17, 18]\n",
            "Positive:  13 \tNegative:  0\n"
          ]
        }
      ],
      "source": [
        "L = [1, 2, 3, 6, 9, 4, 5, 10, 18, 12, 15, 13, 17]\n",
        "\n",
        "\n",
        "def find(L, max=True):\n",
        "    result: int = L[1]\n",
        "    if (max):\n",
        "        for i in L:\n",
        "            if i > result: result = i\n",
        "    else:\n",
        "        for i in L:\n",
        "            if i < result: result = i\n",
        "    return result\n",
        "\n",
        "def sort(L):\n",
        "    n = len(L)\n",
        "    for i in range(n):\n",
        "        for j in range(i + 1, n):\n",
        "            if L[i] > L[j]:\n",
        "                L[i], L[j] = L[j], L[i]\n",
        "\n",
        "    return L\n",
        "\n",
        "def count(L):\n",
        "    positive = 0\n",
        "    negative = 0\n",
        "    for i in L:\n",
        "        if (i > 0):\n",
        "            positive += 1\n",
        "        else:\n",
        "            negative += 1\n",
        "    print('Positive: ', positive, '\\tNegative: ', negative)\n",
        "\n",
        "\n",
        "print(find(L,False)) # find min\n",
        "print(find(L)) # find max\n",
        "print(sort(L)) # sort the list L in ascending order\n",
        "count(L) # show how many positive and negative numbers are in the list L\n"
      ]
    }
  ]
}