{
  "nbformat": 4,
  "nbformat_minor": 0,
  "metadata": {
    "colab": {
      "provenance": [],
      "authorship_tag": "ABX9TyOURGeF5uqw1zNnWPP4G8d2",
      "include_colab_link": true
    },
    "kernelspec": {
      "name": "python3",
      "display_name": "Python 3"
    },
    "language_info": {
      "name": "python"
    }
  },
  "cells": [
    {
      "cell_type": "markdown",
      "metadata": {
        "id": "view-in-github",
        "colab_type": "text"
      },
      "source": [
        "<a href=\"https://colab.research.google.com/github/21130407KhuongVo/MachineLearning/blob/main/Lab1_21130407.ipynb\" target=\"_parent\"><img src=\"https://colab.research.google.com/assets/colab-badge.svg\" alt=\"Open In Colab\"/></a>"
      ]
    },
    {
      "cell_type": "code",
      "execution_count": null,
      "metadata": {
        "colab": {
          "base_uri": "https://localhost:8080/"
        },
        "id": "P_FeSBb-okXM",
        "outputId": "83c2bbe6-c329-4b2e-a917-d4da7f41802c"
      },
      "outputs": [
        {
          "output_type": "stream",
          "name": "stdout",
          "text": [
            "1\n",
            "18\n",
            "[1, 2, 3, 4, 5, 6, 9, 10, 12, 13, 15, 17, 18]\n",
            "Positive:  13 \tNegative:  0\n"
          ]
        }
      ],
      "source": [
        "L = [1, 2, 3, 6, 9, 4, 5, 10, 18, 12, 15, 13, 17]\n",
        "\n",
        "\n",
        "def find(L, max=True):\n",
        "    result: int = L[1]\n",
        "    if (max):\n",
        "        for i in L:\n",
        "            if i > result: result = i\n",
        "    else:\n",
        "        for i in L:\n",
        "            if i < result: result = i\n",
        "    return result\n",
        "\n",
        "def sort(L):\n",
        "    n = len(L)\n",
        "    for i in range(n):\n",
        "        for j in range(i + 1, n):\n",
        "            if L[i] > L[j]:\n",
        "                L[i], L[j] = L[j], L[i]\n",
        "\n",
        "    return L\n",
        "\n",
        "def count(L):\n",
        "    positive = 0\n",
        "    negative = 0\n",
        "    for i in L:\n",
        "        if (i > 0):\n",
        "            positive += 1\n",
        "        else:\n",
        "            negative += 1\n",
        "    print('Positive: ', positive, '\\tNegative: ', negative)\n",
        "\n",
        "\n",
        "print(find(L,False)) # find min\n",
        "print(find(L)) # find max\n",
        "print(sort(L)) # sort the list L in ascending order\n",
        "count(L) # show how many positive and negative numbers are in the list L\n"
      ]
    },
    {
      "cell_type": "code",
      "source": [
        "def comput(n):\n",
        "    result:float=0\n",
        "    for i in range(1,n+1):\n",
        "        result+=factorial(i)\n",
        "    return result\n",
        "def factorial(n):\n",
        "    result:float =1\n",
        "    while n>1:\n",
        "        result*=n\n",
        "        n-=1\n",
        "    return result\n",
        "\n",
        "print(comput(3))\n"
      ],
      "metadata": {
        "colab": {
          "base_uri": "https://localhost:8080/"
        },
        "id": "532HFNt-zJ85",
        "outputId": "9b1aa385-dffb-4ffd-8345-15bde695cf4e"
      },
      "execution_count": null,
      "outputs": [
        {
          "output_type": "stream",
          "name": "stdout",
          "text": [
            "9\n"
          ]
        }
      ]
    },
    {
      "cell_type": "code",
      "source": [
        "from datetime import datetime\n",
        "\n",
        "\n",
        "class Account:\n",
        "    def __init__(self, name, email, country, friends, posts):\n",
        "        self.name = name\n",
        "        self.email = email\n",
        "        self.country = country\n",
        "        self.friends = friends or []\n",
        "        self.posts = posts or []\n",
        "\n",
        "    def getMaxLikePostByFriend(self):\n",
        "        if not self.friends:  # Check if friends list is empty\n",
        "            return None  # Return None gracefully\n",
        "\n",
        "        # Iterate through friends and find the friend with the post having the most likes\n",
        "        best_friend = None\n",
        "        best_post_likes = 0\n",
        "        for friend in self.friends:\n",
        "            # Access the friend's posts and find their post with the most likes\n",
        "            friend_best_post = friend.getMaxLikePost()\n",
        "            if friend_best_post and friend_best_post.likes > best_post_likes:\n",
        "                best_friend = friend\n",
        "                best_post_likes = friend_best_post.likes\n",
        "\n",
        "        return best_friend\n",
        "\n",
        "    def getMaxLikePost(self):\n",
        "        if not self.posts:  # Check if posts list is empty\n",
        "            return None  # Return None gracefully\n",
        "\n",
        "        result = self.posts[0]\n",
        "        for post in self.posts:\n",
        "            if post.likes > result.likes:\n",
        "                result = post\n",
        "        return result\n",
        "\n",
        "    def __str__(self):\n",
        "        return f\"Name: {self.name}\\nEmail: {self.email}\\\"\"\n",
        "\n",
        "    def verifyAccount(self):\n",
        "        return VerifiedAccount(self, datetime.now())\n",
        "\n",
        "class AccountManager:\n",
        "    def __init__(self, accounts):\n",
        "        self.accounts = accounts\n",
        "\n",
        "    def groupAccountsByPostLike(self):\n",
        "        accounts_by_post_count = {}\n",
        "        for account in self.accounts:\n",
        "            key = True if len(account.posts) >= 10 else False\n",
        "            accounts_by_post_count.setdefault(key, []).append(account)\n",
        "\n",
        "        return accounts_by_post_count\n",
        "\n",
        "    def filterAccounts(self, country: str):\n",
        "        result = set()\n",
        "        for account in self.accounts:\n",
        "            if account.country == country:\n",
        "                result.add(account)\n",
        "        return result\n",
        "\n",
        "\n",
        "class Post:\n",
        "    def __init__(self, content: str = 'This is content', subject: str = 'Title', likes: int = 0):\n",
        "        self.content = content\n",
        "        self.subject = subject\n",
        "        self.likes = likes\n",
        "\n",
        "\n",
        "class VerifiedAccount(Account):\n",
        "    def __init__(self, account, fromDate: datetime):\n",
        "        self.fromDate = fromDate\n",
        "        super().__init__(account.name, account.email, account.country, account.friends, account.posts)\n",
        "\n",
        "    def __str__(self):\n",
        "        return f'Name: {self.name}\\tEmail: {self.email}\\tVerifyDate: {self.fromDate}'\n",
        "\n",
        "\n",
        "# 10 đối tượng Post với giá trị likes ngẫu nhiên\n",
        "post1 = Post(\"Bài đăng 1\", \"Chủ đề 1\", 10)\n",
        "post2 = Post(\"Bài đăng 2\", \"Chủ đề 2\", 11)\n",
        "post3 = Post(\"Bài đăng 3\", \"Chủ đề 3\", 12)\n",
        "post4 = Post(\"Bài đăng 4\", \"Chủ đề 4\", 13)\n",
        "post5 = Post(\"Bài đăng 5\", \"Chủ đề 5\", 14)\n",
        "post6 = Post(\"Bài đăng 6\", \"Chủ đề 6\", 15)\n",
        "post7 = Post(\"Bài đăng 7\", \"Chủ đề 7\", 16)\n",
        "post8 = Post(\"Bài đăng 8\", \"Chủ đề 8\", 17)\n",
        "post9 = Post(\"Bài đăng 9\", \"Chủ đề 9\", 18)\n",
        "post10 = Post(\"Bài đăng 10\", \"Chủ đề 10\", 19)\n",
        "# Sử dụng các đối tượng Post sau này...\n",
        "acc1 = Account('Vo Nguyen Nhat Khuong', '21130407@st.hcmuaf.edu.vn', 'Vietnam', None,\n",
        "               [post1, post2, post3, post4, post5])\n",
        "acc2 = Account('Le Phi Long', '21130436@st.hcmuaf.edu', 'Vietnam', None,\n",
        "               [post6, post9])\n",
        "acc3 = Account('Nguyen Thi Thuy Thuy', '21130560@st.hcmuaf.edu.vn', 'Vietnam', None,\n",
        "               [post7, post8, post10])\n",
        "acc1.friends.append(acc2)\n",
        "acc1.friends.append(acc3)\n",
        "acc2.friends.append(acc1)\n",
        "acc2.friends.append(acc3)\n",
        "acc3.friends.append(acc2)\n",
        "acc3.friends.append(acc1)\n",
        "manager = AccountManager([acc1, acc2, acc3])\n",
        "print(acc1.getMaxLikePostByFriend())\n",
        "print(manager.groupAccountsByPostLike())\n",
        "print(manager.filterAccounts('Vietnam'))\n",
        "ver1 = acc1.verifyAccount()\n",
        "print(ver1)"
      ],
      "metadata": {
        "colab": {
          "base_uri": "https://localhost:8080/"
        },
        "id": "rAE7A0dX6bjH",
        "outputId": "e4c98836-0754-4cad-b71d-b342dca21372"
      },
      "execution_count": 1,
      "outputs": [
        {
          "output_type": "stream",
          "name": "stdout",
          "text": [
            "Name: Nguyen Thi Thuy Thuy\n",
            "Email: 21130560@st.hcmuaf.edu.vn\"\n",
            "{False: [<__main__.Account object at 0x7d3b9857bdf0>, <__main__.Account object at 0x7d3b9857be80>, <__main__.Account object at 0x7d3b9857bee0>]}\n",
            "{<__main__.Account object at 0x7d3b9857be80>, <__main__.Account object at 0x7d3b9857bee0>, <__main__.Account object at 0x7d3b9857bdf0>}\n",
            "Name: Vo Nguyen Nhat Khuong\tEmail: 21130407@st.hcmuaf.edu.vn\tVerifyDate: 2024-03-06 08:39:42.156504\n"
          ]
        }
      ]
    },
    {
      "cell_type": "code",
      "source": [
        "import numpy as np\n",
        "\n",
        "\n",
        "# task 2.1\n",
        "def task2_1():\n",
        "    # create\n",
        "    array = np.arange(10, 26)\n",
        "\n",
        "    # reverser\n",
        "    reversed_array = array[::-1]\n",
        "\n",
        "    print(reversed_array)\n",
        "\n",
        "\n",
        "# task 2.2\n",
        "def task2_2(arr_inp, repeat):\n",
        "    repeat_arr = np.tile(arr_inp, repeat)\n",
        "    print(repeat_arr)\n",
        "\n",
        "\n",
        "# task 2.3\n",
        "def task2_3(arr_inp):\n",
        "    arr_inp[arr_inp > 0.5] = 0.5\n",
        "    print(arr_inp)\n",
        "\n",
        "\n",
        "task2_1()\n",
        "task2_2([1,2,3], 3)\n",
        "task2_3(np.array([\n",
        "    [0.42, 0.48, 0.32],\n",
        "    [0.74, 0.58, 0.38],\n",
        "    [0.51, 0.34, 0.15]\n",
        "]))"
      ],
      "metadata": {
        "colab": {
          "base_uri": "https://localhost:8080/"
        },
        "id": "1SzwL1dmPtRc",
        "outputId": "929558d8-5f8f-42df-c52e-814db18ed0bf"
      },
      "execution_count": 2,
      "outputs": [
        {
          "output_type": "stream",
          "name": "stdout",
          "text": [
            "[25 24 23 22 21 20 19 18 17 16 15 14 13 12 11 10]\n",
            "[1 2 3 1 2 3 1 2 3]\n",
            "[[0.42 0.48 0.32]\n",
            " [0.5  0.5  0.38]\n",
            " [0.5  0.34 0.15]]\n"
          ]
        }
      ]
    }
  ]
}